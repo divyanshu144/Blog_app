{
  "nbformat": 4,
  "nbformat_minor": 0,
  "metadata": {
    "colab": {
      "name": "Ml programs.ipynb",
      "provenance": [],
      "collapsed_sections": [],
      "authorship_tag": "ABX9TyNCoO/+aozKP3NMK8BnFgjd",
      "include_colab_link": true
    },
    "kernelspec": {
      "name": "python3",
      "display_name": "Python 3"
    }
  },
  "cells": [
    {
      "cell_type": "markdown",
      "metadata": {
        "id": "view-in-github",
        "colab_type": "text"
      },
      "source": [
        "<a href=\"https://colab.research.google.com/github/divyanshu144/Blog_app/blob/master/Ml_programs.ipynb\" target=\"_parent\"><img src=\"https://colab.research.google.com/assets/colab-badge.svg\" alt=\"Open In Colab\"/></a>"
      ]
    },
    {
      "cell_type": "code",
      "metadata": {
        "colab": {
          "base_uri": "https://localhost:8080/"
        },
        "id": "hKTkD9E-997b",
        "outputId": "3345f91d-ebfe-4a2d-883d-696e77d75d92"
      },
      "source": [
        "import csv\r\n",
        "a=[]\r\n",
        "with open('data.csv') as csfile:\r\n",
        "  reader = csv.reader(csfile)\r\n",
        "  for row in reader:\r\n",
        "    a.append(row)\r\n",
        "    print(row)\r\n",
        "num_attributes = len(a[0])-1\r\n",
        "\r\n",
        "general_hypothesis = [\"?\"]*num_attributes\r\n",
        "specific_hypothesis = [\"0\"]*num_attributes\r\n",
        "\r\n",
        "print(\"General hypothesis : \", general_hypothesis)\r\n",
        "print(\"Specific hyothesis : \", specific_hypothesis)\r\n",
        "\r\n",
        "hyothesis = specific_hypothesis\r\n",
        "hypothesis = a[0][:-1]\r\n",
        "\r\n",
        "print(\"\\n Find-S algorithm\")\r\n",
        "for i in range (len(a)):\r\n",
        "  if a[i][num_attributes] == \"Yes\":\r\n",
        "    for j in range (num_attributes):\r\n",
        "      if a[i][j] != hypothesis[j]:\r\n",
        "        hypothesis[j] = \"?\"\r\n",
        "  print(\"The training example no : \", i+1 ,\"the hypthesis is : \", hypothesis)\r\n",
        "print(\"\\n Max specific hyoithesis is :\")\r\n",
        "print(hypothesis)"
      ],
      "execution_count": 13,
      "outputs": [
        {
          "output_type": "stream",
          "text": [
            "['Sunny', 'Warm', 'Normal', 'Strong', 'Warm', 'Same', 'Yes']\n",
            "['Sunny', 'Warm', 'High', 'Strong', 'Warm', 'Same', 'Yes']\n",
            "['Rainy', 'Cold', 'High', 'Strong', 'Warm', 'Change', 'No']\n",
            "['Sunny', 'Warm', 'High', 'Strong', 'Cool', 'Change', 'Yes']\n",
            "General hypothesis :  ['?', '?', '?', '?', '?', '?']\n",
            "Specific hyothesis :  ['0', '0', '0', '0', '0', '0']\n",
            "\n",
            " Find-S algorithm\n",
            "The training example no :  1 the hypthesis is :  ['Sunny', 'Warm', 'Normal', 'Strong', 'Warm', 'Same']\n",
            "The training example no :  2 the hypthesis is :  ['Sunny', 'Warm', '?', 'Strong', 'Warm', 'Same']\n",
            "The training example no :  3 the hypthesis is :  ['Sunny', 'Warm', '?', 'Strong', 'Warm', 'Same']\n",
            "The training example no :  4 the hypthesis is :  ['Sunny', 'Warm', '?', 'Strong', '?', '?']\n",
            "\n",
            " Max specific hyoithesis is :\n",
            "['Sunny', 'Warm', '?', 'Strong', '?', '?']\n"
          ],
          "name": "stdout"
        }
      ]
    },
    {
      "cell_type": "markdown",
      "metadata": {
        "id": "fXrh7B0uWKQt"
      },
      "source": [
        "CANDIDATE ELIMINATION"
      ]
    },
    {
      "cell_type": "code",
      "metadata": {
        "colab": {
          "base_uri": "https://localhost:8080/"
        },
        "id": "GSGnkjH9WOxv",
        "outputId": "1ab96238-bdc1-4945-9117-6514d2ee1b34"
      },
      "source": [
        "import csv\r\n",
        "a = []\r\n",
        "with open('data.csv') as csfile:\r\n",
        "  reader = csv.reader(csfile)\r\n",
        "  for row in reader:\r\n",
        "    a.append(row)\r\n",
        "    print(row)\r\n",
        "\r\n",
        "num_att = len(a[0])-1\r\n",
        "G = [\"?\"]*num_att\r\n",
        "S = [\"0\"]*num_att\r\n",
        "\r\n",
        "print(\"\\n General hypothesis: \", G)\r\n",
        "print(\"\\n Specific hypothesis: \", S)\r\n",
        "temp = []\r\n",
        "\r\n",
        "for i in range(0,num_att):\r\n",
        "  S[i] = a[1][i]\r\n",
        "\r\n",
        "#print(S)\r\n",
        "for i in range(1,len(a)):\r\n",
        "  if a[i][num_att] == \"Yes\":\r\n",
        "    for j in range(0,num_att):\r\n",
        "      if a[i][j] != S[j]:\r\n",
        "        S[j] = '?'\r\n",
        "      \r\n",
        "      for j in range(0,num_att):\r\n",
        "        for k in range(0,len(temp)):\r\n",
        "          if temp[k][j] != S[j] and temp[k][j] != \"?\":\r\n",
        "            del temp[k]\r\n",
        "\r\n",
        "  if a[i][num_att] == \"No\":\r\n",
        "    for j in range(0,num_att):\r\n",
        "      if a[i][j] != S[j] and S[j] != \"?\":\r\n",
        "        G[j] = S[j]\r\n",
        "        temp.append(G)\r\n",
        "        G = [\"?\"]*num_att\r\n",
        "\r\n",
        "  print(\"\\n\", S)\r\n",
        "  if temp == 0:\r\n",
        "    print(G)\r\n",
        "  else:\r\n",
        "    print(temp)\r\n"
      ],
      "execution_count": 26,
      "outputs": [
        {
          "output_type": "stream",
          "text": [
            "['Sunny', 'Warm', 'Normal', 'Strong', 'Warm', 'Same', 'Yes']\n",
            "['Sunny', 'Warm', 'High', 'Strong', 'Warm', 'Same', 'Yes']\n",
            "['Rainy', 'Cold', 'High', 'Strong', 'Warm', 'Change', 'No']\n",
            "['Sunny', 'Warm', 'High', 'Strong', 'Cool', 'Change', 'Yes']\n",
            "\n",
            " General hypothesis:  ['?', '?', '?', '?', '?', '?']\n",
            "\n",
            " Specific hypothesis:  ['0', '0', '0', '0', '0', '0']\n",
            "\n",
            " ['Sunny', 'Warm', 'High', 'Strong', 'Warm', 'Same']\n",
            "[]\n",
            "\n",
            " ['Sunny', 'Warm', 'High', 'Strong', 'Warm', 'Same']\n",
            "[['Sunny', '?', '?', '?', '?', '?'], ['?', 'Warm', '?', '?', '?', '?'], ['?', '?', '?', '?', '?', 'Same']]\n",
            "\n",
            " ['Sunny', 'Warm', 'High', 'Strong', '?', '?']\n",
            "[['Sunny', '?', '?', '?', '?', '?'], ['?', 'Warm', '?', '?', '?', '?']]\n"
          ],
          "name": "stdout"
        }
      ]
    },
    {
      "cell_type": "markdown",
      "metadata": {
        "id": "cB-m51pdXYul"
      },
      "source": [
        "Decision Tree"
      ]
    },
    {
      "cell_type": "code",
      "metadata": {
        "colab": {
          "base_uri": "https://localhost:8080/"
        },
        "id": "nySLnI8zXa8Z",
        "outputId": "3b5b4803-2d0d-48cf-b558-28ccfb3e4695"
      },
      "source": [
        "import pandas as pd\r\n",
        "from math import *\r\n",
        "from pprint import pprint\r\n",
        "\r\n",
        "df = pd.read_csv('data1.csv')\r\n",
        "data = df.values.tolist()\r\n",
        "\r\n",
        "attr_names = df.columns.values.tolist()\r\n",
        "def entropy(pos, neg):\r\n",
        "\tif pos == 0 or neg == 0:\r\n",
        "\t\treturn 0\r\n",
        "\ttot = pos + neg\r\n",
        "\treturn -pos / tot * log(pos / tot, 2) - neg / tot * log(neg / tot, 2)\r\n",
        "\r\n",
        "def gain(data, attr, pos, neg):\r\n",
        "\td, E, acu = {}, entropy(pos, neg), 0\r\n",
        "\tfor i in data:\r\n",
        "\t\tif i[attr] not in d:\r\n",
        "\t\t\td[i[attr]] = {}\r\n",
        "\t\td[i[attr]][i[-1]] = 1 + d[i[attr]].get(i[-1], 0)\r\n",
        "\tfor i in d:\r\n",
        "\t\ttot = d[i].get('Yes', 0) + d[i].get('No', 0)\r\n",
        "\t\tacu += tot / (pos + neg) * entropy(d[i].get('Yes', 0), d[i].get('No', 0))\r\n",
        "\treturn E - acu\r\n",
        "def build(data, attr_names):\r\n",
        "\tpos, sz = len([x for x in data if x[-1] == 'Yes']), len(data[0]) - 1\r\n",
        "\tneg = len(data) - pos\r\n",
        "\tif neg == 0 or pos == 0:\r\n",
        "\t\treturn 'Yes' if neg == 0 else 'No' \r\n",
        "\troot = max([[gain(data, i, pos, neg), i] for i in range(sz)])[1]\r\n",
        "\tfin, res = {}, {}\r\n",
        "\tuniq_attr = set([x[root] for x in data])\r\n",
        "\tfor i in uniq_attr:\r\n",
        "\t\tres[i] = build([x[:root] + x[root + 1:] for x in data if x[root] == i], attr_names[:root] + attr_names[root+1:])\r\n",
        "\tfin[attr_names[root]] = res\r\n",
        "\treturn fin\r\n",
        "\r\n",
        "tree = build(data, attr_names)\r\n",
        "pprint(tree)"
      ],
      "execution_count": 16,
      "outputs": [
        {
          "output_type": "stream",
          "text": [
            "{'Outlook': {'Overcast': 'Yes',\n",
            "             'Rain': {'Wind': {'Strong': {'Humidity': {'High': 'No',\n",
            "                                                       'Normal': {'Temp': {'Cool': 'No',\n",
            "                                                                           'Mild': 'Yes'}}}},\n",
            "                               'Weak': 'Yes'}},\n",
            "             'Sunny': {'Humidity': {'High': 'No', 'Normal': 'Yes'}}}}\n"
          ],
          "name": "stdout"
        }
      ]
    },
    {
      "cell_type": "markdown",
      "metadata": {
        "id": "fQQbNVAWYUBx"
      },
      "source": [
        "ANN"
      ]
    },
    {
      "cell_type": "code",
      "metadata": {
        "colab": {
          "base_uri": "https://localhost:8080/"
        },
        "id": "7EHXtQz6YVft",
        "outputId": "4c9dc21a-7fce-4492-b8b3-b3e821552bc7"
      },
      "source": [
        "import numpy as np\r\n",
        "x = np.array(([2,9], [1,5],[3,6]), dtype = float)\r\n",
        "y = np.array(([92], [86], [89]), dtype=float)\r\n",
        "x = x/np.amax(x,axis=0)\r\n",
        "y = y/100\r\n",
        "\r\n",
        "def sigmoid(x):\r\n",
        "\treturn (1/(1+np.exp(-x)))\r\n",
        "\r\n",
        "def derivatives_sigmoid(x):\r\n",
        "\treturn x*(1-x)\r\n",
        "\r\n",
        "#initialize network\r\n",
        "epoch = 7000\r\n",
        "lr = 0.1\r\n",
        "inputlayer = 2\r\n",
        "hiddenlayer = 3\r\n",
        "output = 1\r\n",
        "\r\n",
        "wh = np.random.uniform(size=(inputlayer, hiddenlayer))\r\n",
        "bh = np.random.uniform(size=(1, hiddenlayer))\r\n",
        "wout = np.random.uniform(size=(hiddenlayer,output))\r\n",
        "bout = np.random.uniform(size=(1, output))\r\n",
        "\r\n",
        "for i in range(epoch):\r\n",
        "\thinp1 = np.dot(x,wh)\r\n",
        "\thinp = hinp1 + bh\r\n",
        "\thlayer_act = sigmoid(hinp)\r\n",
        "\toutinp1 = np.dot(hlayer_act, wout)\r\n",
        "\toutinp = outinp1 + bout\r\n",
        "\toutput = sigmoid(outinp)\r\n",
        "\r\n",
        "EO = y-output\r\n",
        "outgrad = derivatives_sigmoid(output)\r\n",
        "d_output = EO*outgrad\r\n",
        "\r\n",
        "Eh = d_output.dot(wout.T)\r\n",
        "hiddengrad = derivatives_sigmoid(hlayer_act)\r\n",
        "\r\n",
        "d_hiddenlayer = Eh * hiddengrad\r\n",
        "wout += hlayer_act.T.dot(d_output) * lr\r\n",
        "\r\n",
        "bout += np.sum(d_output, axis=0, keepdims=True)*lr\r\n",
        "wh += x.T.dot(d_hiddenlayer) * lr\r\n",
        "\r\n",
        "\r\n",
        "print(\"Input: \\n\" + str(x))\r\n",
        "print(\"Actual Output: \\n\" + str(y))\r\n",
        "print(\"Predicted Output: \\n\", output)\r\n"
      ],
      "execution_count": 20,
      "outputs": [
        {
          "output_type": "stream",
          "text": [
            "Input: \n",
            "[[0.66666667 1.        ]\n",
            " [0.33333333 0.55555556]\n",
            " [1.         0.66666667]]\n",
            "Actual Output: \n",
            "[[0.92]\n",
            " [0.86]\n",
            " [0.89]]\n",
            "Predicted Output: \n",
            " [[0.85089624]\n",
            " [0.82786082]\n",
            " [0.84489909]]\n"
          ],
          "name": "stdout"
        }
      ]
    },
    {
      "cell_type": "markdown",
      "metadata": {
        "id": "XH0SZm1r881i"
      },
      "source": [
        "program 5"
      ]
    },
    {
      "cell_type": "code",
      "metadata": {
        "colab": {
          "base_uri": "https://localhost:8080/"
        },
        "id": "7Fsy3tiy85qE",
        "outputId": "2763510a-7982-42e1-d819-681cb7d9cafb"
      },
      "source": [
        "import csv\r\n",
        "import math\r\n",
        "import random\r\n",
        "#Handle data\r\n",
        "def loadCsv(Data5):\r\n",
        "\tlines = csv.reader(open(Data5, \"r\"))\r\n",
        "\tdataset = list(lines)\r\n",
        "\tfor i in range(len(dataset)):\r\n",
        "\t\tdataset[i] = [float(x) for x in dataset[i]]\r\n",
        "\treturn dataset\r\n",
        "\r\n",
        "#Split dataset with ratio\r\n",
        "def splitDataset(dataset, splitRatio):\r\n",
        "\ttrainSize = int(len(dataset) * splitRatio)\r\n",
        "\ttrainSet = []\r\n",
        "\tcopy = list(dataset)\r\n",
        "\t\r\n",
        "\twhile len(trainSet) < trainSize:\r\n",
        "\t\tindex = random.randrange(len(copy))\r\n",
        "\t\ttrainSet.append(copy.pop(index))\r\n",
        "\treturn [trainSet, copy]\r\n",
        "\r\n",
        "#Separate by Class\r\n",
        "#function assumes that the last attribute (-1) is the class value\r\n",
        "#The function returns a map of class values to lists of data instances.\r\n",
        "def separateByClass(dataset):\r\n",
        "\tseparated = {}\r\n",
        "\tfor i in range(len(dataset)):\r\n",
        "\t\tvector = dataset[i]\r\n",
        "\t\tif (vector[-1] not in separated):\r\n",
        "\t\t\tseparated[vector[-1]] = []\r\n",
        "\t\tseparated[vector[-1]].append(vector)\r\n",
        "\treturn separated\r\n",
        "\r\n",
        "#Calculate Mean\r\n",
        "#We need to calculate the mean of each attribute for a class value\r\n",
        "def mean(numbers):\r\n",
        "\treturn sum(numbers)/float(len(numbers))\r\n",
        "\r\n",
        "def stdev(numbers):\r\n",
        "\tavg = mean(numbers)\r\n",
        "\tvariance = sum([pow(x-avg,2) for x in numbers])/float(len(numbers)-1)\r\n",
        "\treturn math.sqrt(variance)\r\n",
        "\r\n",
        "#Summarize Dataset\r\n",
        "#The zip function groups the values for each attribute across our data instances into their own lists \r\n",
        "def summarize(dataset):\r\n",
        "\tsummaries = [(mean(attribute), stdev(attribute)) for attribute in zip(*dataset)]\r\n",
        "\tdel summaries[-1]\r\n",
        "\treturn summaries\r\n",
        "\r\n",
        "#Summarize attributes by class\r\n",
        "def summarizeByClass(dataset):\r\n",
        "\tseparated = separateByClass(dataset)\r\n",
        "\tsummaries = {}\r\n",
        "\tfor classValue, instances in separated.items():\r\n",
        "\t\tsummaries[classValue] = summarize(instances)\r\n",
        "\treturn summaries\r\n",
        "\r\n",
        "#Calculate Gaussian Probability Density Function\r\n",
        "def calculateProbability(x, mean, stdev):\r\n",
        "\texponent = math.exp(-(math.pow(x-mean,2)/(2*math.pow(stdev,2))))\r\n",
        "\treturn (1/(math.sqrt(2*math.pi)*stdev))*exponent\r\n",
        "#Calculate Class Probabilities\r\n",
        "def calculateClassProbabilities(summaries, inputVector):\r\n",
        "\tprobabilities = {}\r\n",
        "\tfor classValue, classSummaries in summaries.items():\r\n",
        "\t\tprobabilities[classValue] = 1\r\n",
        "\t\tfor i in range(len(classSummaries)):\r\n",
        "\t\t\tmean, stdev = classSummaries[i]\r\n",
        "\t\t\tx = inputVector[i]\r\n",
        "\t\t\tprobabilities[classValue] *= calculateProbability(x, mean, stdev)\r\n",
        "\t\treturn probabilities\r\n",
        "#Make a prediction\r\n",
        "def predict(summaries, inputVector):\r\n",
        "\tprobabilities = calculateClassProbabilities(summaries, inputVector)\r\n",
        "\tbestLabel, bestProb = None, -1\r\n",
        "\tfor classValue, probability in probabilities.items():\r\n",
        "\t\tif bestLabel is None or probability > bestProb:\r\n",
        "\t\t\tbestProb = probability\r\n",
        "\t\t\tbestLabel = classValue\r\n",
        "\treturn bestLabel\r\n",
        "#Get predictions\r\n",
        "def getPredictions(summaries, testSet):\r\n",
        "\tpredictions = []\r\n",
        "\tfor i in range(len(testSet)):\r\n",
        "\t\tresult = predict(summaries, testSet[i])\r\n",
        "\t\tpredictions.append(result)\r\n",
        "\treturn predictions\r\n",
        "#Get Accuracy\r\n",
        "def getAccuracy(testSet, predictions):\r\n",
        "\tcorrect = 0\r\n",
        "\tfor x in range(len(testSet)):\r\n",
        "\t\tif testSet[x][-1] == predictions[x]:\r\n",
        "\t\t\tcorrect += 1\r\n",
        "\treturn (correct/float(len(testSet)))*100.0\r\n",
        "\r\n",
        "def main():\r\n",
        "\tfilename = 'Data5.csv'\r\n",
        "\tsplitRatio = 0.68\r\n",
        "\tdataset = loadCsv(filename)\r\n",
        "\ttrainingSet, testSet = splitDataset(dataset, splitRatio)\r\n",
        "\tprint('Split {0} rows into train = {1} and test = {2} rows'.format(len(dataset),len(trainingSet),len(testSet)))\r\n",
        "\t#prepare model\r\n",
        "\tsummaries = summarizeByClass(trainingSet)\r\n",
        "\t#test model\r\n",
        "\tpredictions = getPredictions(summaries, testSet)\r\n",
        "\taccuracy = getAccuracy(testSet, predictions)\r\n",
        "\tprint('Accuracy: {0}%'.format(accuracy))\r\n",
        "\r\n",
        "main()"
      ],
      "execution_count": 3,
      "outputs": [
        {
          "output_type": "stream",
          "text": [
            "Split 768 rows into train = 522 and test = 246 rows\n",
            "Accuracy: 35.77235772357724%\n"
          ],
          "name": "stdout"
        }
      ]
    },
    {
      "cell_type": "markdown",
      "metadata": {
        "id": "oQZgcT3t95T6"
      },
      "source": [
        "program 6"
      ]
    },
    {
      "cell_type": "code",
      "metadata": {
        "colab": {
          "base_uri": "https://localhost:8080/"
        },
        "id": "cUCoCLXx94xJ",
        "outputId": "066a1038-42f0-4329-8de0-361fe0793b24"
      },
      "source": [
        "from sklearn.datasets import fetch_20newsgroups\r\n",
        "#Load finenames and data from 20 newsgroups dataset\r\n",
        "from sklearn.metrics import confusion_matrix #It is used to compute accuracy of classification\r\n",
        "from sklearn.metrics import classification_report\r\n",
        "#Build a text report showing the main classifications metrics\r\n",
        "import numpy as np\r\n",
        "import os\r\n",
        "categories=['alt.atheism','soc.religion.christian','comp.graphics','sci.med']\r\n",
        "twenty_train=fetch_20newsgroups(subset='train',categories=categories,shuffle=True)\r\n",
        "twenty_test=fetch_20newsgroups(subset='test',categories=categories,shuffle=True)\r\n",
        "#OFFILINE MODE\r\n",
        "#twenty_train=fetch_20newsgroups(data_home='./scikit_learn_data',subset='train',shuffle=True)\r\n",
        "#print(\"Training dataset:\\n\",twenty_train)\r\n",
        "#twenty_test=fetch_20newsgroups(data_home='./scikit_learn_data',subset='test',shuffle=True)\r\n",
        "#print(\"Test dataset:\\n\",twenty_test)\r\n",
        "print(\"Number of Training Examples:\",len(twenty_train.data))\r\n",
        "print(\"Number of Test Examples:\",len(twenty_test.data))\r\n",
        "print(twenty_train.target_names)\r\n",
        "#output of count vectoriser is a sparse matrix\r\n",
        "from sklearn.feature_extraction.text import CountVectorizer\r\n",
        "count_vect=CountVectorizer()\r\n",
        "X_train_tf=count_vect.fit_transform(twenty_train.data)\r\n",
        "from sklearn.feature_extraction.text import TfidfTransformer\r\n",
        "tfidf_transformer=TfidfTransformer()\r\n",
        "X_train_tfidf=tfidf_transformer.fit_transform(X_train_tf)\r\n",
        "X_train_tfidf.shape\r\n",
        "# Training Naive Bayes (NB) classifier on training data.\r\n",
        "from sklearn.naive_bayes import MultinomialNB\r\n",
        "from sklearn.metrics import accuracy_score\r\n",
        "from sklearn import metrics\r\n",
        "mod=MultinomialNB()\r\n",
        "mod.fit(X_train_tfidf,twenty_train.target)\r\n",
        "X_test_tf=count_vect.transform(twenty_test.data)\r\n",
        "X_test_tfidf=tfidf_transformer.transform(X_test_tf)\r\n",
        "predicted=mod.predict(X_test_tfidf)\r\n",
        "#printing accuracy, Confusion matrix, Precision and Recall\r\n",
        "print(\"Confusion matrix\\n\",metrics.confusion_matrix(twenty_test.target,predicted))\r\n",
        "print(\"Accuracy:\",accuracy_score(twenty_test.target,predicted))\r\n",
        "print(classification_report(twenty_test.target,predicted,target_names=twenty_test.target_names))"
      ],
      "execution_count": 4,
      "outputs": [
        {
          "output_type": "stream",
          "text": [
            "Downloading 20news dataset. This may take a few minutes.\n",
            "Downloading dataset from https://ndownloader.figshare.com/files/5975967 (14 MB)\n"
          ],
          "name": "stderr"
        },
        {
          "output_type": "stream",
          "text": [
            "Number of Training Examples: 2257\n",
            "Number of Test Examples: 1502\n",
            "['alt.atheism', 'comp.graphics', 'sci.med', 'soc.religion.christian']\n",
            "Confusion matrix\n",
            " [[192   2   6 119]\n",
            " [  2 347   4  36]\n",
            " [  2  11 322  61]\n",
            " [  2   2   1 393]]\n",
            "Accuracy: 0.8348868175765646\n",
            "                        precision    recall  f1-score   support\n",
            "\n",
            "           alt.atheism       0.97      0.60      0.74       319\n",
            "         comp.graphics       0.96      0.89      0.92       389\n",
            "               sci.med       0.97      0.81      0.88       396\n",
            "soc.religion.christian       0.65      0.99      0.78       398\n",
            "\n",
            "              accuracy                           0.83      1502\n",
            "             macro avg       0.89      0.82      0.83      1502\n",
            "          weighted avg       0.88      0.83      0.84      1502\n",
            "\n"
          ],
          "name": "stdout"
        }
      ]
    },
    {
      "cell_type": "markdown",
      "metadata": {
        "id": "GABwgvxy-Dvp"
      },
      "source": [
        "program 7"
      ]
    },
    {
      "cell_type": "code",
      "metadata": {
        "id": "jLpwY01S-nrD"
      },
      "source": [
        "pip install pgmpy"
      ],
      "execution_count": null,
      "outputs": []
    },
    {
      "cell_type": "code",
      "metadata": {
        "colab": {
          "base_uri": "https://localhost:8080/"
        },
        "id": "ry5zukJX-GMW",
        "outputId": "72e8b3f1-51df-476d-b0cb-ef49cf79fd43"
      },
      "source": [
        "import numpy as np\r\n",
        "import csv\r\n",
        "import pandas as pd\r\n",
        "from pgmpy.models import BayesianModel\r\n",
        "from pgmpy.estimators import MaximumLikelihoodEstimator\r\n",
        "from pgmpy.inference import VariableElimination\r\n",
        "#read Cleveland Heart Disease data\r\n",
        "heartDisease = pd.read_csv('Data7.csv')\r\n",
        "heartDisease = heartDisease.replace('?',np.nan)\r\n",
        "\r\n",
        "#display the data\r\n",
        "print('Few examples from the dataset are given below')\r\n",
        "print(heartDisease.head())\r\n",
        "\r\n",
        "#Model Bayesian Network\r\n",
        "model=BayesianModel([('age','trestbps'),('age','fbs'),('sex','trestbps'),('exang','trestbps'),('trestbps','heartdisease'),('fbs','heartdisease'),('heartdisease','restecg'),('heartdisease','thalach'),('heartdisease','chol')])\r\n",
        "#Learning CPDs using Maximum Likelihood Estimators\r\n",
        "print('\\n Learning CPD using Maximum likelihood estimators')\r\n",
        "model.fit(heartDisease,estimator=MaximumLikelihoodEstimator)\r\n",
        "# Inferencing with Bayesian Network\r\n",
        "print('\\n Inferencing with Bayesian Network:')\r\n",
        "HeartDisease_infer = VariableElimination(model)\r\n",
        "\r\n",
        "#computing the Probability of HeartDisease given Age\r\n",
        "print('\\n 1. Probability of HeartDisease given Age=30')\r\n",
        "q=HeartDisease_infer.query(variables=['heartdisease'],evidence={'age':28}, joint=False)\r\n",
        "print(q['heartdisease'])\r\n",
        "#computing the Probability of HeartDisease given cholesterol\r\n",
        "print('\\n 2. Probability of HeartDisease given cholesterol=100')\r\n",
        "q=HeartDisease_infer.query(variables=['heartdisease'],evidence={'chol':100}, joint=False)\r\n",
        "print(q['heartdisease'])"
      ],
      "execution_count": 8,
      "outputs": [
        {
          "output_type": "stream",
          "text": [
            "/usr/local/lib/python3.6/dist-packages/statsmodels/tools/_testing.py:19: FutureWarning: pandas.util.testing is deprecated. Use the functions in the public API at pandas.testing instead.\n",
            "  import pandas.util.testing as tm\n",
            "/usr/local/lib/python3.6/dist-packages/pgmpy/factors/discrete/DiscreteFactor.py:519: UserWarning: Found unknown state name. Trying to switch to using all state names as state numbers\n",
            "  \"Found unknown state name. Trying to switch to using all state names as state numbers\"\n",
            "Finding Elimination Order: :   0%|          | 0/7 [00:00<?, ?it/s]"
          ],
          "name": "stderr"
        },
        {
          "output_type": "stream",
          "text": [
            "Few examples from the dataset are given below\n",
            "    age  sex   cp  trestbps   chol  ...  oldpeak  slope   ca  thal  heartdisease\n",
            "0  63.0  1.0  1.0     145.0  233.0  ...      2.3    3.0  0.0   6.0             0\n",
            "1  67.0  1.0  4.0     160.0  286.0  ...      1.5    2.0  3.0   3.0             2\n",
            "2  67.0  1.0  4.0     120.0  229.0  ...      2.6    2.0  2.0   7.0             1\n",
            "3  37.0  1.0  3.0     130.0  250.0  ...      3.5    3.0  0.0   3.0             0\n",
            "4  41.0  0.0  2.0     130.0  204.0  ...      1.4    1.0  0.0   3.0             0\n",
            "\n",
            "[5 rows x 14 columns]\n",
            "\n",
            " Learning CPD using Maximum likelihood estimators\n",
            "\n",
            " Inferencing with Bayesian Network:\n",
            "\n",
            " 1. Probability of HeartDisease given Age=30\n"
          ],
          "name": "stdout"
        },
        {
          "output_type": "stream",
          "text": [
            "Finding Elimination Order: : 100%|██████████| 7/7 [00:00<00:00, 579.94it/s]\n",
            "Eliminating: sex: 100%|██████████| 7/7 [00:00<00:00, 227.40it/s]\n",
            "Finding Elimination Order: : 100%|██████████| 7/7 [00:00<00:00, 1474.57it/s]\n",
            "Eliminating: sex: 100%|██████████| 7/7 [00:00<00:00, 119.76it/s]"
          ],
          "name": "stderr"
        },
        {
          "output_type": "stream",
          "text": [
            "+-----------------+---------------------+\n",
            "| heartdisease    |   phi(heartdisease) |\n",
            "+=================+=====================+\n",
            "| heartdisease(0) |              0.5932 |\n",
            "+-----------------+---------------------+\n",
            "| heartdisease(1) |              0.1714 |\n",
            "+-----------------+---------------------+\n",
            "| heartdisease(2) |              0.0811 |\n",
            "+-----------------+---------------------+\n",
            "| heartdisease(3) |              0.1138 |\n",
            "+-----------------+---------------------+\n",
            "| heartdisease(4) |              0.0405 |\n",
            "+-----------------+---------------------+\n",
            "\n",
            " 2. Probability of HeartDisease given cholesterol=100\n",
            "+-----------------+---------------------+\n",
            "| heartdisease    |   phi(heartdisease) |\n",
            "+=================+=====================+\n",
            "| heartdisease(0) |              1.0000 |\n",
            "+-----------------+---------------------+\n",
            "| heartdisease(1) |              0.0000 |\n",
            "+-----------------+---------------------+\n",
            "| heartdisease(2) |              0.0000 |\n",
            "+-----------------+---------------------+\n",
            "| heartdisease(3) |              0.0000 |\n",
            "+-----------------+---------------------+\n",
            "| heartdisease(4) |              0.0000 |\n",
            "+-----------------+---------------------+\n"
          ],
          "name": "stdout"
        },
        {
          "output_type": "stream",
          "text": [
            "\n"
          ],
          "name": "stderr"
        }
      ]
    },
    {
      "cell_type": "markdown",
      "metadata": {
        "id": "wKe6BTFL-8d2"
      },
      "source": [
        "program 8"
      ]
    },
    {
      "cell_type": "code",
      "metadata": {
        "colab": {
          "base_uri": "https://localhost:8080/",
          "height": 654
        },
        "id": "Fd0OXb0E--r8",
        "outputId": "4ff09091-91d1-42cb-a47f-5fa5a3fc5d8d"
      },
      "source": [
        "import matplotlib.pyplot as plt\r\n",
        "from sklearn.cluster import KMeans\r\n",
        "from sklearn import datasets\r\n",
        "import pandas as pd\r\n",
        "import numpy as np\r\n",
        "from sklearn.metrics import accuracy_score\r\n",
        "\r\n",
        "iris = datasets.load_iris()\r\n",
        "\r\n",
        "X = pd.DataFrame(iris.data)\r\n",
        "X.columns = ['Sepal_Length', 'Sepal_Width', 'Petal_Length', 'Petal_Width']\r\n",
        "\r\n",
        "y = pd.DataFrame(iris.target)\r\n",
        "y.columns = ['Targets']\r\n",
        "\r\n",
        "#Build the KMeans Model\r\n",
        "kmeans = KMeans(n_clusters=5)\r\n",
        "clusters = kmeans.fit_predict(X)\r\n",
        "\r\n",
        "from scipy.stats import mode\r\n",
        "labels = np.zeros_like(clusters)\r\n",
        "\r\n",
        "for i in range(5):\r\n",
        "\tcat = (clusters == i)\r\n",
        "\tlabels[cat] = mode(iris.target[cat])[0]\r\n",
        "\r\n",
        "acc = accuracy_score(iris.target, labels)\r\n",
        "print('Accuracy = ', acc)\r\n",
        "\r\n",
        "plt.figure(figsize = (10,10))\r\n",
        "colormap = np.array(['red', 'lime', 'blue'])\r\n",
        "\r\n",
        "# Real Clusters\r\n",
        "plt.subplot(2, 2, 1)\r\n",
        "plt.scatter(X.Petal_Length, X.Petal_Width, c = colormap[y.Targets], s = 40)\r\n",
        "plt.title('Real Clusters')\r\n",
        "plt.xlabel('Petal Lenght')\r\n",
        "plt.ylabel('Petal Width')\r\n",
        "\r\n",
        "# K-Means Output\r\n",
        "plt.subplot(2, 2, 2)\r\n",
        "plt.scatter(X.Petal_Length, X.Petal_Width, c = colormap[labels], s = 40)\r\n",
        "plt.title('KMeans Clustering')\r\n",
        "plt.xlabel('Petal Length')\r\n",
        "plt.ylabel('Petal Width')\r\n",
        "\r\n",
        "#General EM for GM\r\n",
        "from sklearn import preprocessing\r\n",
        "\r\n",
        "scaler = preprocessing.StandardScaler()\r\n",
        "scaler.fit(X)\r\n",
        "scaled_X = scaler.transform(X)\r\n",
        "\r\n",
        "xs = pd.DataFrame(scaled_X, columns = X.columns)\r\n",
        "\r\n",
        "from sklearn.mixture import GaussianMixture\r\n",
        "\r\n",
        "gmm = GaussianMixture(n_components = 3)\r\n",
        "gmm.fit(xs)\r\n",
        "gmm_y = gmm.predict(xs)\r\n",
        "\r\n",
        "labels = np.zeros_like(clusters)\r\n",
        "\r\n",
        "for i in range(3):\r\n",
        "\tcat = (gmm_y == i)\r\n",
        "\tlabels[cat] = mode(iris.target[cat])[0]\r\n",
        "\r\n",
        "acc = accuracy_score(iris.target, labels)\r\n",
        "print(\"Accuracy using GMM = \", acc)\r\n",
        "\r\n",
        "plt.subplot(2, 2, 3)\r\n",
        "plt.scatter(X.Petal_Length, X.Petal_Width, c = colormap[gmm_y], s=40)\r\n",
        "plt.subplots_adjust(hspace=0.4, wspace=0.4)\r\n",
        "plt.title('GMM Clusters')\r\n",
        "plt.xlabel('Petal Length')\r\n",
        "plt.ylabel('Petal Width')\r\n",
        "\r\n",
        "plt.show()"
      ],
      "execution_count": 10,
      "outputs": [
        {
          "output_type": "stream",
          "text": [
            "Accuracy =  0.9066666666666666\n",
            "Accuracy using GMM =  0.9666666666666667\n"
          ],
          "name": "stdout"
        },
        {
          "output_type": "display_data",
          "data": {
            "image/png": "[encoded data removed]",
            "text/plain": [
              "<Figure size 720x720 with 3 Axes>"
            ]
          },
          "metadata": {
            "tags": [],
            "needs_background": "light"
          }
        }
      ]
    },
    {
      "cell_type": "markdown",
      "metadata": {
        "id": "JubseJsO_ZFw"
      },
      "source": [
        "program 9"
      ]
    },
    {
      "cell_type": "code",
      "metadata": {
        "colab": {
          "base_uri": "https://localhost:8080/"
        },
        "id": "JiQwc4UN_at5",
        "outputId": "28b33c90-a56a-4d21-b3b6-f4a5a4153315"
      },
      "source": [
        "from sklearn.datasets import load_iris\r\n",
        "iris = load_iris()\r\n",
        "print(\"Feature Names:\",iris.feature_names,\"IrisData:\\n\",iris.data,\"\\nTargetNames:\",iris.target_names,\"\\nTarget:\",iris.target)\r\n",
        "from sklearn.model_selection import train_test_split\r\n",
        "X_train, X_test, y_train, y_test = train_test_split(iris.data, iris.target, test_size = .25)\r\n",
        "from sklearn.neighbors import KNeighborsClassifier\r\n",
        "clf = KNeighborsClassifier()\r\n",
        "clf.fit(X_train, y_train)\r\n",
        "print(\" Accuracy=\",clf.score(X_test, y_test))\r\n",
        "print(\"Predicted Data\")\r\n",
        "print(clf.predict(X_test))\r\n",
        "prediction=clf.predict(X_test)\r\n",
        "print(\"Test data :\")\r\n",
        "print(y_test)\r\n",
        "diff=prediction-y_test\r\n",
        "print(\"Result is \")\r\n",
        "print(diff)\r\n",
        "print('Total no of samples misclassified =', sum(abs(diff)))"
      ],
      "execution_count": 11,
      "outputs": [
        {
          "output_type": "stream",
          "text": [
            "Feature Names: ['sepal length (cm)', 'sepal width (cm)', 'petal length (cm)', 'petal width (cm)'] IrisData:\n",
            " [[5.1 3.5 1.4 0.2]\n",
            " [4.9 3.  1.4 0.2]\n",
            " [4.7 3.2 1.3 0.2]\n",
            " [4.6 3.1 1.5 0.2]\n",
            " [5.  3.6 1.4 0.2]\n",
            " [5.4 3.9 1.7 0.4]\n",
            " [4.6 3.4 1.4 0.3]\n",
            " [5.  3.4 1.5 0.2]\n",
            " [4.4 2.9 1.4 0.2]\n",
            " [4.9 3.1 1.5 0.1]\n",
            " [5.4 3.7 1.5 0.2]\n",
            " [4.8 3.4 1.6 0.2]\n",
            " [4.8 3.  1.4 0.1]\n",
            " [4.3 3.  1.1 0.1]\n",
            " [5.8 4.  1.2 0.2]\n",
            " [5.7 4.4 1.5 0.4]\n",
            " [5.4 3.9 1.3 0.4]\n",
            " [5.1 3.5 1.4 0.3]\n",
            " [5.7 3.8 1.7 0.3]\n",
            " [5.1 3.8 1.5 0.3]\n",
            " [5.4 3.4 1.7 0.2]\n",
            " [5.1 3.7 1.5 0.4]\n",
            " [4.6 3.6 1.  0.2]\n",
            " [5.1 3.3 1.7 0.5]\n",
            " [4.8 3.4 1.9 0.2]\n",
            " [5.  3.  1.6 0.2]\n",
            " [5.  3.4 1.6 0.4]\n",
            " [5.2 3.5 1.5 0.2]\n",
            " [5.2 3.4 1.4 0.2]\n",
            " [4.7 3.2 1.6 0.2]\n",
            " [4.8 3.1 1.6 0.2]\n",
            " [5.4 3.4 1.5 0.4]\n",
            " [5.2 4.1 1.5 0.1]\n",
            " [5.5 4.2 1.4 0.2]\n",
            " [4.9 3.1 1.5 0.2]\n",
            " [5.  3.2 1.2 0.2]\n",
            " [5.5 3.5 1.3 0.2]\n",
            " [4.9 3.6 1.4 0.1]\n",
            " [4.4 3.  1.3 0.2]\n",
            " [5.1 3.4 1.5 0.2]\n",
            " [5.  3.5 1.3 0.3]\n",
            " [4.5 2.3 1.3 0.3]\n",
            " [4.4 3.2 1.3 0.2]\n",
            " [5.  3.5 1.6 0.6]\n",
            " [5.1 3.8 1.9 0.4]\n",
            " [4.8 3.  1.4 0.3]\n",
            " [5.1 3.8 1.6 0.2]\n",
            " [4.6 3.2 1.4 0.2]\n",
            " [5.3 3.7 1.5 0.2]\n",
            " [5.  3.3 1.4 0.2]\n",
            " [7.  3.2 4.7 1.4]\n",
            " [6.4 3.2 4.5 1.5]\n",
            " [6.9 3.1 4.9 1.5]\n",
            " [5.5 2.3 4.  1.3]\n",
            " [6.5 2.8 4.6 1.5]\n",
            " [5.7 2.8 4.5 1.3]\n",
            " [6.3 3.3 4.7 1.6]\n",
            " [4.9 2.4 3.3 1. ]\n",
            " [6.6 2.9 4.6 1.3]\n",
            " [5.2 2.7 3.9 1.4]\n",
            " [5.  2.  3.5 1. ]\n",
            " [5.9 3.  4.2 1.5]\n",
            " [6.  2.2 4.  1. ]\n",
            " [6.1 2.9 4.7 1.4]\n",
            " [5.6 2.9 3.6 1.3]\n",
            " [6.7 3.1 4.4 1.4]\n",
            " [5.6 3.  4.5 1.5]\n",
            " [5.8 2.7 4.1 1. ]\n",
            " [6.2 2.2 4.5 1.5]\n",
            " [5.6 2.5 3.9 1.1]\n",
            " [5.9 3.2 4.8 1.8]\n",
            " [6.1 2.8 4.  1.3]\n",
            " [6.3 2.5 4.9 1.5]\n",
            " [6.1 2.8 4.7 1.2]\n",
            " [6.4 2.9 4.3 1.3]\n",
            " [6.6 3.  4.4 1.4]\n",
            " [6.8 2.8 4.8 1.4]\n",
            " [6.7 3.  5.  1.7]\n",
            " [6.  2.9 4.5 1.5]\n",
            " [5.7 2.6 3.5 1. ]\n",
            " [5.5 2.4 3.8 1.1]\n",
            " [5.5 2.4 3.7 1. ]\n",
            " [5.8 2.7 3.9 1.2]\n",
            " [6.  2.7 5.1 1.6]\n",
            " [5.4 3.  4.5 1.5]\n",
            " [6.  3.4 4.5 1.6]\n",
            " [6.7 3.1 4.7 1.5]\n",
            " [6.3 2.3 4.4 1.3]\n",
            " [5.6 3.  4.1 1.3]\n",
            " [5.5 2.5 4.  1.3]\n",
            " [5.5 2.6 4.4 1.2]\n",
            " [6.1 3.  4.6 1.4]\n",
            " [5.8 2.6 4.  1.2]\n",
            " [5.  2.3 3.3 1. ]\n",
            " [5.6 2.7 4.2 1.3]\n",
            " [5.7 3.  4.2 1.2]\n",
            " [5.7 2.9 4.2 1.3]\n",
            " [6.2 2.9 4.3 1.3]\n",
            " [5.1 2.5 3.  1.1]\n",
            " [5.7 2.8 4.1 1.3]\n",
            " [6.3 3.3 6.  2.5]\n",
            " [5.8 2.7 5.1 1.9]\n",
            " [7.1 3.  5.9 2.1]\n",
            " [6.3 2.9 5.6 1.8]\n",
            " [6.5 3.  5.8 2.2]\n",
            " [7.6 3.  6.6 2.1]\n",
            " [4.9 2.5 4.5 1.7]\n",
            " [7.3 2.9 6.3 1.8]\n",
            " [6.7 2.5 5.8 1.8]\n",
            " [7.2 3.6 6.1 2.5]\n",
            " [6.5 3.2 5.1 2. ]\n",
            " [6.4 2.7 5.3 1.9]\n",
            " [6.8 3.  5.5 2.1]\n",
            " [5.7 2.5 5.  2. ]\n",
            " [5.8 2.8 5.1 2.4]\n",
            " [6.4 3.2 5.3 2.3]\n",
            " [6.5 3.  5.5 1.8]\n",
            " [7.7 3.8 6.7 2.2]\n",
            " [7.7 2.6 6.9 2.3]\n",
            " [6.  2.2 5.  1.5]\n",
            " [6.9 3.2 5.7 2.3]\n",
            " [5.6 2.8 4.9 2. ]\n",
            " [7.7 2.8 6.7 2. ]\n",
            " [6.3 2.7 4.9 1.8]\n",
            " [6.7 3.3 5.7 2.1]\n",
            " [7.2 3.2 6.  1.8]\n",
            " [6.2 2.8 4.8 1.8]\n",
            " [6.1 3.  4.9 1.8]\n",
            " [6.4 2.8 5.6 2.1]\n",
            " [7.2 3.  5.8 1.6]\n",
            " [7.4 2.8 6.1 1.9]\n",
            " [7.9 3.8 6.4 2. ]\n",
            " [6.4 2.8 5.6 2.2]\n",
            " [6.3 2.8 5.1 1.5]\n",
            " [6.1 2.6 5.6 1.4]\n",
            " [7.7 3.  6.1 2.3]\n",
            " [6.3 3.4 5.6 2.4]\n",
            " [6.4 3.1 5.5 1.8]\n",
            " [6.  3.  4.8 1.8]\n",
            " [6.9 3.1 5.4 2.1]\n",
            " [6.7 3.1 5.6 2.4]\n",
            " [6.9 3.1 5.1 2.3]\n",
            " [5.8 2.7 5.1 1.9]\n",
            " [6.8 3.2 5.9 2.3]\n",
            " [6.7 3.3 5.7 2.5]\n",
            " [6.7 3.  5.2 2.3]\n",
            " [6.3 2.5 5.  1.9]\n",
            " [6.5 3.  5.2 2. ]\n",
            " [6.2 3.4 5.4 2.3]\n",
            " [5.9 3.  5.1 1.8]] \n",
            "TargetNames: ['setosa' 'versicolor' 'virginica'] \n",
            "Target: [0 0 0 0 0 0 0 0 0 0 0 0 0 0 0 0 0 0 0 0 0 0 0 0 0 0 0 0 0 0 0 0 0 0 0 0 0\n",
            " 0 0 0 0 0 0 0 0 0 0 0 0 0 1 1 1 1 1 1 1 1 1 1 1 1 1 1 1 1 1 1 1 1 1 1 1 1\n",
            " 1 1 1 1 1 1 1 1 1 1 1 1 1 1 1 1 1 1 1 1 1 1 1 1 1 1 2 2 2 2 2 2 2 2 2 2 2\n",
            " 2 2 2 2 2 2 2 2 2 2 2 2 2 2 2 2 2 2 2 2 2 2 2 2 2 2 2 2 2 2 2 2 2 2 2 2 2\n",
            " 2 2]\n",
            " Accuracy= 0.9736842105263158\n",
            "Predicted Data\n",
            "[1 2 0 0 0 1 0 1 0 1 2 0 2 2 1 1 1 1 0 1 1 2 2 0 0 0 2 2 0 2 0 1 1 0 0 1 1\n",
            " 0]\n",
            "Test data :\n",
            "[1 2 0 0 0 1 0 1 0 1 1 0 2 2 1 1 1 1 0 1 1 2 2 0 0 0 2 2 0 2 0 1 1 0 0 1 1\n",
            " 0]\n",
            "Result is \n",
            "[0 0 0 0 0 0 0 0 0 0 1 0 0 0 0 0 0 0 0 0 0 0 0 0 0 0 0 0 0 0 0 0 0 0 0 0 0\n",
            " 0]\n",
            "Total no of samples misclassified = 1\n"
          ],
          "name": "stdout"
        }
      ]
    },
    {
      "cell_type": "markdown",
      "metadata": {
        "id": "XMW2IB9I_irP"
      },
      "source": [
        "program 10"
      ]
    },
    {
      "cell_type": "code",
      "metadata": {
        "colab": {
          "base_uri": "https://localhost:8080/",
          "height": 279
        },
        "id": "EPN3VWV5_k2C",
        "outputId": "1be632e3-5a2c-4063-8fc9-117fc888816b"
      },
      "source": [
        "import matplotlib.pyplot as plt\r\n",
        "import pandas as pd\r\n",
        "import numpy as np\r\n",
        "\r\n",
        "def kernel(point, xmat, k):\r\n",
        "\tm,n = np.shape(xmat)\r\n",
        "\tweights = np.mat(np.eye((m))) #eye - identity matrix\r\n",
        "\tfor j in range(m):\r\n",
        "\t\tdiff = point - X[j]\r\n",
        "\t\tweights[j,j] = np.exp(diff*diff.T/(-2.0*k**2))\r\n",
        "\treturn weights\r\n",
        "\r\n",
        "def localWeight(point, xmat, ymat, k):\r\n",
        "\twei = kernel(point, xmat, k)\r\n",
        "\tw = (X.T*(wei*X)).I*(X.T*(wei*ymat.T))\r\n",
        "\treturn w\r\n",
        "\r\n",
        "def localWeightRegression(xmat, ymat, k):\r\n",
        "\tm,n = np.shape(xmat)\r\n",
        "\typred = np.zeros(m)\r\n",
        "\tfor i in range(m):\r\n",
        "\t\typred[i] = xmat[i]*localWeight(xmat[i],xmat,ymat, k)\r\n",
        "\treturn ypred\r\n",
        "\r\n",
        "def graphPlot(X, ypred):\r\n",
        "\tsortindex = X[:, 1].argsort(0)\r\n",
        "\txsort = X[sortindex][:,0]\r\n",
        "\tfig = plt.figure()\r\n",
        "\tax = fig.add_subplot(1,1,1)\r\n",
        "\tax.scatter(bill, tip, color = 'green')\r\n",
        "\tax.plot(xsort[:, 1], ypred[sortindex], color = 'red', linewidth = 5)\r\n",
        "\tplt.xlabel('Total Bill')\r\n",
        "\tplt.ylabel('Tip')\r\n",
        "\tplt.show()\r\n",
        "\r\n",
        "data = pd.read_csv('Data10.csv')\r\n",
        "bill = np.array(data.total_bill)\r\n",
        "tip = np.array(data.tip)\r\n",
        "\r\n",
        "mbill = np.mat(bill)\r\n",
        "mtip = np.mat(tip)\r\n",
        "m = np.shape(mbill)[1]\r\n",
        "one = np.mat(np.ones(m))\r\n",
        "X = np.hstack((one.T, mbill.T))\r\n",
        "\r\n",
        "ypred = localWeightRegression(X, mtip, 0.5)\r\n",
        "graphPlot(X,ypred)"
      ],
      "execution_count": 12,
      "outputs": [
        {
          "output_type": "display_data",
          "data": {
            "image/png": "[encoded data removed]",
            "text/plain": [
              "<Figure size 432x288 with 1 Axes>"
            ]
          },
          "metadata": {
            "tags": [],
            "needs_background": "light"
          }
        }
      ]
    },
    {
      "cell_type": "code",
      "metadata": {
        "colab": {
          "base_uri": "https://localhost:8080/"
        },
        "id": "cDZMx9PeSNBx",
        "outputId": "5482d884-a342-4346-fdcf-5b948bb1983a"
      },
      "source": [
        "import os\r\n",
        "from sklearn.metrics import classification_report,confusion_matrix\r\n",
        "from sklearn.datasets import fetch_20newsgroups\r\n",
        "import sklearn.datasets as skd\r\n",
        "import numpy as np\r\n",
        "categories=['alt.atheism','soc.religion.christian','comp.graphics','sci.med']\r\n",
        "twenty_train=fetch_20newsgroups(subset='train',categories=categories,shuffle=True)\r\n",
        "twenty_test=fetch_20newsgroups(subset='test',categories=categories,shuffle=True)\r\n",
        "print(len(twen_train.data))\r\n",
        "print(len(twen_test.data))\r\n",
        "print(twen_train.target_names)\r\n",
        "\r\n",
        "from sklearn.feature_extraction.text import CountVectorizer\r\n",
        "count_vect=CountVectorizer()\r\n",
        "X_train_tf=count_vect.fit_transform(twen_train.data)\r\n",
        "\r\n",
        "from sklearn.feature_extraction.text import TfidfTransformer\r\n",
        "tfidf_trans=TfidfTransformer()\r\n",
        "X_train_tfidf=tfidf_trans.fit_transform(X_train_tf)\r\n",
        "X_train_tfidf.shape\r\n",
        "\r\n",
        "from sklearn import metrics\r\n",
        "from sklearn.metrics import accuracy_score\r\n",
        "from sklearn.naive_bayes import MultinomialNB\r\n",
        "mod=MultinomialNB()\r\n",
        "mod.fit(X_train_tfidf,twen_train.target)\r\n",
        "X_test_tf=count_vect.transform(twen_test.data)\r\n",
        "X_test_tfidf=tfidf_trans.transform(X_test_tf)\r\n",
        "predicted=mod.predict(X_test_tfidf)\r\n",
        "print(accuracy_score(twen_test.target,predicted))\r\n",
        "print(classification_report(twen_test.target,predicted,target_names=twen_test.target_names))\r\n",
        "print(confusion_matrix(twen_test.target,predicted))"
      ],
      "execution_count": 16,
      "outputs": [
        {
          "output_type": "stream",
          "text": [
            "11314\n",
            "7532\n",
            "['alt.atheism', 'comp.graphics', 'comp.os.ms-windows.misc', 'comp.sys.ibm.pc.hardware', 'comp.sys.mac.hardware', 'comp.windows.x', 'misc.forsale', 'rec.autos', 'rec.motorcycles', 'rec.sport.baseball', 'rec.sport.hockey', 'sci.crypt', 'sci.electronics', 'sci.med', 'sci.space', 'soc.religion.christian', 'talk.politics.guns', 'talk.politics.mideast', 'talk.politics.misc', 'talk.religion.misc']\n",
            "0.7738980350504514\n",
            "                          precision    recall  f1-score   support\n",
            "\n",
            "             alt.atheism       0.80      0.52      0.63       319\n",
            "           comp.graphics       0.81      0.65      0.72       389\n",
            " comp.os.ms-windows.misc       0.82      0.65      0.73       394\n",
            "comp.sys.ibm.pc.hardware       0.67      0.78      0.72       392\n",
            "   comp.sys.mac.hardware       0.86      0.77      0.81       385\n",
            "          comp.windows.x       0.89      0.75      0.82       395\n",
            "            misc.forsale       0.93      0.69      0.80       390\n",
            "               rec.autos       0.85      0.92      0.88       396\n",
            "         rec.motorcycles       0.94      0.93      0.93       398\n",
            "      rec.sport.baseball       0.92      0.90      0.91       397\n",
            "        rec.sport.hockey       0.89      0.97      0.93       399\n",
            "               sci.crypt       0.59      0.97      0.74       396\n",
            "         sci.electronics       0.84      0.60      0.70       393\n",
            "                 sci.med       0.92      0.74      0.82       396\n",
            "               sci.space       0.84      0.89      0.87       394\n",
            "  soc.religion.christian       0.44      0.98      0.61       398\n",
            "      talk.politics.guns       0.64      0.94      0.76       364\n",
            "   talk.politics.mideast       0.93      0.91      0.92       376\n",
            "      talk.politics.misc       0.96      0.42      0.58       310\n",
            "      talk.religion.misc       0.97      0.14      0.24       251\n",
            "\n",
            "                accuracy                           0.77      7532\n",
            "               macro avg       0.83      0.76      0.76      7532\n",
            "            weighted avg       0.82      0.77      0.77      7532\n",
            "\n",
            "[[166   0   0   1   0   1   0   0   1   1   1   3   0   6   3 123   4   8\n",
            "    0   1]\n",
            " [  1 252  15  12   9  18   1   2   1   5   2  41   4   0   6  15   4   1\n",
            "    0   0]\n",
            " [  0  14 258  45   3   9   0   2   1   3   2  25   1   0   6  23   2   0\n",
            "    0   0]\n",
            " [  0   5  11 305  17   1   3   6   1   0   2  19  13   0   5   3   1   0\n",
            "    0   0]\n",
            " [  0   3   8  23 298   0   3   8   1   3   1  16   8   0   2   8   3   0\n",
            "    0   0]\n",
            " [  1  21  17  13   2 298   1   0   1   1   0  23   0   1   4  10   2   0\n",
            "    0   0]\n",
            " [  0   1   3  31  12   1 271  19   4   4   6   5  12   6   3   9   3   0\n",
            "    0   0]\n",
            " [  0   1   0   3   0   0   4 364   3   2   2   4   1   1   3   3   4   0\n",
            "    1   0]\n",
            " [  0   0   0   1   0   0   2  10 371   0   0   4   0   0   0   8   2   0\n",
            "    0   0]\n",
            " [  0   0   0   0   1   0   0   4   0 357  22   0   0   0   2   9   1   1\n",
            "    0   0]\n",
            " [  0   0   0   0   0   0   0   1   0   4 387   1   0   0   1   5   0   0\n",
            "    0   0]\n",
            " [  0   2   1   0   0   1   1   3   0   0   0 383   1   0   0   3   1   0\n",
            "    0   0]\n",
            " [  0   4   2  17   5   0   2   8   7   1   2  78 235   3  11  15   2   1\n",
            "    0   0]\n",
            " [  2   3   0   1   1   3   1   0   2   3   4  11   5 292   6  52   6   4\n",
            "    0   0]\n",
            " [  0   2   0   1   0   3   0   2   1   0   1   6   1   2 351  19   4   0\n",
            "    1   0]\n",
            " [  2   0   0   0   0   0   0   0   1   0   0   0   0   1   2 392   0   0\n",
            "    0   0]\n",
            " [  0   0   0   1   0   0   2   0   1   1   0  10   0   0   1   6 341   1\n",
            "    0   0]\n",
            " [  0   1   0   0   0   0   0   0   0   1   0   2   0   0   0  24   3 344\n",
            "    1   0]\n",
            " [  2   0   0   0   0   0   0   1   0   0   1  11   0   1   7  35 118   5\n",
            "  129   0]\n",
            " [ 33   2   0   0   0   0   0   0   0   1   1   3   0   4   4 131  29   5\n",
            "    3  35]]\n"
          ],
          "name": "stdout"
        }
      ]
    }
  ]
}